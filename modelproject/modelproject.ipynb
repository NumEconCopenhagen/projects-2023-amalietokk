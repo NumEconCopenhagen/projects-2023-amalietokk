{
 "cells": [
  {
   "cell_type": "markdown",
   "metadata": {},
   "source": [
    "# YOUR PROJECT TITLE"
   ]
  },
  {
   "cell_type": "markdown",
   "metadata": {},
   "source": [
    "> **Note the following:** \n",
    "> 1. This is *not* meant to be an example of an actual **model analysis project**, just an example of how to structure such a project.\n",
    "> 1. Remember the general advice on structuring and commenting your code\n",
    "> 1. The `modelproject.py` file includes a function which could be used multiple times in this notebook."
   ]
  },
  {
   "cell_type": "markdown",
   "metadata": {},
   "source": [
    "Imports and set magics:"
   ]
  },
  {
   "cell_type": "code",
   "execution_count": 10,
   "metadata": {},
   "outputs": [
    {
     "name": "stdout",
     "output_type": "stream",
     "text": [
      "The autoreload extension is already loaded. To reload it, use:\n",
      "  %reload_ext autoreload\n"
     ]
    }
   ],
   "source": [
    "import numpy as np\n",
    "from scipy import optimize\n",
    "import sympy as sm\n",
    "\n",
    "# plotting\n",
    "import matplotlib.pyplot as plt\n",
    "plt.style.use('seaborn-whitegrid')\n",
    "plt.rcParams.update({'font.size': 12})\n",
    "\n",
    "# autoreload modules when code is run\n",
    "%load_ext autoreload\n",
    "%autoreload 2\n",
    "\n",
    "# local modules\n",
    "from modelproject import *"
   ]
  },
  {
   "cell_type": "markdown",
   "metadata": {},
   "source": [
    "# Model description"
   ]
  },
  {
   "cell_type": "markdown",
   "metadata": {},
   "source": [
    "I choose to model the Green Solow model, where I wish to look at differentiating abatement costs, as is described in the course Advanced Economics of the Environment and Climate Change."
   ]
  },
  {
   "cell_type": "markdown",
   "metadata": {},
   "source": [
    "The equations are given as follows."
   ]
  },
  {
   "cell_type": "markdown",
   "metadata": {},
   "source": [
    "Consider the **Green Solow-model** where:\n",
    "\n",
    "1. $Q$ is gross output (GDP) \n",
    "2. $R$ is resources spent on pollution abatement\n",
    "3. $Y$ is Q-R, which is net output\n",
    "4. $K_t$ is capital\n",
    "5. $L_t$ is labor (growing with a constant rate of $n$)\n",
    "6. $B$ is an index of labor efficiency\n",
    "7. $g$ is the growth rate of B\n",
    "8. $E$ is the total emissions of pollutants\n",
    "9. $\\omega$ is the emission coefficient\n",
    "10. $z$ is the rate of decline in $\\omega$\n",
    "11. $s$ is the savings rate\n",
    "12. $n$ is the growth rate of labor force\n",
    "13. $\\delta$ is the rate of depreciation of capital stock\n",
    "\n",
    "**The GDP** is dependant on the production function: \n",
    "\n",
    "$$\n",
    "Q=K_{t}^{\\alpha}(B_{t}L_{t})^{1-\\alpha}\n",
    "$$\n",
    "\n",
    "\n",
    "**The fraction of output spent on pollution abatement** is also dependant on the production function, with a constant rate $\\theta$: \n",
    "\n",
    "$$\n",
    "Y_{t}=Q_{t}(1-\\theta)\n",
    "$$\n",
    "\n",
    "\n",
    "**The net investment in physical capital** takes into account the depreciation of both physical capital and natural capital. S is the share of net output we save and substract the amount of capital that is decreasing over time. \n",
    "\n",
    "$$\n",
    "\\dot{K}_{t}=sY_{t}-\\delta K_t, \\quad \\quad \\quad 0<s<1\n",
    "$$\n",
    "\n",
    "\n",
    "\n",
    "**The change in labor** is dependant on the labor in period t and the growth rate:\n",
    "\n",
    "$$\n",
    "\\dot{L}=nL_t \\Leftrightarrow L_{t}=L_{0}e^{nt},\\quad \\quad \\quad n>0, \\quad L_0>0\n",
    "$$\n",
    "\n",
    "**The index of labor efficiency** in the same manner: \n",
    "\n",
    "$$\n",
    "\\dot{B}=gB_t \\Leftrightarrow B_{t}=B_{0}e^{nt},\\quad \\quad \\quad g>0, \\quad B_0>0\n",
    "$$\n",
    "\n",
    "\n",
    "**The emissions** depend on the emission coefficient and the output: \n",
    "\n",
    "$$\n",
    "E_{t}=\\omega_{t}Q_{t}(1-\\theta)\n",
    "$$\n",
    "\n"
   ]
  },
  {
   "cell_type": "markdown",
   "metadata": {},
   "source": [
    "The main dynamic equation is then:\n",
    "\n",
    "$$\n",
    "\\dot{k}_{t}=s(1-\\theta)k_{t}^{\\alpha}-(\\delta +g+n)k_t\n",
    "$$\n",
    "\n"
   ]
  },
  {
   "cell_type": "markdown",
   "metadata": {},
   "source": [
    "## Analytical solution"
   ]
  },
  {
   "cell_type": "markdown",
   "metadata": {},
   "source": [
    "I use Sympy for the purpose of finding an analytical solution to the problem:"
   ]
  },
  {
   "cell_type": "code",
   "execution_count": 11,
   "metadata": {},
   "outputs": [
    {
     "data": {
      "text/latex": [
       "$\\displaystyle \\left(s \\left(1 - \\theta\\right)\\right)^{- \\frac{1}{\\alpha - 1}} \\left(\\delta + g + n\\right)^{\\frac{1}{\\alpha - 1}}$"
      ],
      "text/plain": [
       "(delta + g + n)**(1/(alpha - 1))/(s*(1 - theta))**(1/(alpha - 1))"
      ]
     },
     "execution_count": 11,
     "metadata": {},
     "output_type": "execute_result"
    }
   ],
   "source": [
    "\n",
    "# Define variables and parameters\n",
    "k = sm.Symbol('k')\n",
    "s = sm.Symbol('s', positive=True)\n",
    "theta = sm.Symbol('theta', positive=True)\n",
    "alpha = sm.Symbol('alpha', positive=True)\n",
    "delta = sm.Symbol('delta', positive=True)\n",
    "g = sm.Symbol('g', positive=True)\n",
    "n = sm.Symbol('n', positive=True)\n",
    "\n",
    "# Define the equation\n",
    "eq = s*(1-theta)*k**alpha - (delta + g + n)*k\n",
    "\n",
    "# Solve for k\n",
    "k_star = sm.solve(eq, k)[0]\n",
    "\n",
    "# Display the result\n",
    "k_star\n",
    "\n"
   ]
  },
  {
   "cell_type": "markdown",
   "metadata": {},
   "source": [
    "#### This corresponds to the solution I get by hand:"
   ]
  },
  {
   "cell_type": "markdown",
   "metadata": {},
   "source": [
    "$$\n",
    "k^*=(\\frac{s(1-\\theta)}{\\delta+g+n})^{1/(1-\\alpha)}\n",
    "$$"
   ]
  },
  {
   "cell_type": "markdown",
   "metadata": {},
   "source": [
    "Thereby the steady state of capital is increasing in savings and decreasing in depreciation rate, growth rate of labour and growth rate of labour efficiency. Furthermore it is decreasing in the fraction of output spent on pollution abatement. "
   ]
  },
  {
   "cell_type": "markdown",
   "metadata": {},
   "source": [
    "## Numerical solution"
   ]
  },
  {
   "cell_type": "markdown",
   "metadata": {},
   "source": [
    "You can always solve a model numerically. \n",
    "\n",
    "Define first the set of parameters you need. \n",
    "\n",
    "Then choose one of the optimization algorithms that we have gone through in the lectures based on what you think is most fitting for your model.\n",
    "\n",
    "Are there any problems with convergence? Does the model converge for all starting values? Make a lot of testing to figure these things out."
   ]
  },
  {
   "cell_type": "markdown",
   "metadata": {},
   "source": [
    "Firstly, I define the parameters I need for the model in my ss_func. I then use this to find the steady state function for baseline scenario with low abatement:"
   ]
  },
  {
   "cell_type": "code",
   "execution_count": 12,
   "metadata": {},
   "outputs": [],
   "source": [
    "#Define the lambdify function:\n",
    "ss_func = sm.lambdify((s, g, n, delta, alpha, theta), k_star)"
   ]
  },
  {
   "cell_type": "code",
   "execution_count": 13,
   "metadata": {},
   "outputs": [
    {
     "name": "stdout",
     "output_type": "stream",
     "text": [
      "2.786473672701261\n"
     ]
    }
   ],
   "source": [
    "# Evaluate function with low abatement\n",
    "print(ss_func(0.2,0.0186,0.0126,0.07,0.35,0.015))"
   ]
  },
  {
   "cell_type": "markdown",
   "metadata": {},
   "source": [
    "I also find this using the unit root method. The function is presented in the py file. "
   ]
  },
  {
   "cell_type": "code",
   "execution_count": 18,
   "metadata": {},
   "outputs": [
    {
     "name": "stdout",
     "output_type": "stream",
     "text": [
      "the steady state for k is 2.7864736727011303\n"
     ]
    }
   ],
   "source": [
    "solve_ss(0.2,0.0186,0.0126,0.07,0.35,0.015)"
   ]
  },
  {
   "cell_type": "markdown",
   "metadata": {},
   "source": [
    "### I then simulate the optimization: \n",
    "\n",
    "\n",
    "#### Note, I have not yet gotten this code to work, suggestions are welcome. I have included an attempt both here and in the py file."
   ]
  },
  {
   "cell_type": "markdown",
   "metadata": {},
   "source": [
    "Firstly I define the model:"
   ]
  },
  {
   "cell_type": "code",
   "execution_count": 19,
   "metadata": {},
   "outputs": [],
   "source": [
    "class GreenSolow:\n",
    "    def __init__(self, par):\n",
    "        self.par = par\n",
    "        \n",
    "    def setup(self):\n",
    "        \"\"\" baseline parameters \"\"\"\n",
    "        \n",
    "        par = self.par\n",
    "        \n",
    "        # a. household\n",
    "        par.sigma = 2.0 # CRRA coefficient\n",
    "        par.beta = 1/1.40 # discount factor\n",
    "\n",
    "        # b. firms\n",
    "        par.alpha = 0.30 # capital weight\n",
    "        par.theta = 0.05 # fraction of output spent on pollution abatement\n",
    "        par.delta = 0.50 # depreciation rate\n",
    "\n",
    "        # c. government\n",
    "        par.tau_w = 0.10 # labor income tax\n",
    "        par.tau_r = 0.20 # capital income tax\n",
    "\n",
    "        # d. environmental\n",
    "        par.omega = 0.02 # emission coefficient\n",
    "        par.z = 0.03 # rate of decline in emission coefficient\n",
    "\n",
    "        # e. misc\n",
    "        par.K_lag_ini = 1.0 # initial capital stock\n",
    "        par.B_lag_ini = 0.0 # initial index of labor efficiency\n",
    "        par.simT = 50 # length of simulation\n",
    "\n",
    "        # f. growth rates\n",
    "        par.n = 0.01 # labor force growth rate\n",
    "        par.g = 0.02 # growth rate of labor efficiency\n",
    "        \n",
    "        # g. savings rate\n",
    "        par.s = 0.3 # savings rate\n",
    "\n",
    "    def y(self, q):\n",
    "        \"\"\" Output \"\"\"\n",
    "        alpha = self.par.alpha\n",
    "        return q**alpha\n",
    "    \n",
    "    def q(self, k, b, l):\n",
    "        \"\"\" Effective labor-augmented capital \"\"\"\n",
    "        omega = self.par.omega\n",
    "        z = self.par.z\n",
    "        return (k**alpha)*(l*np.exp(-b))**(1-alpha)*np.exp(-omega*np.exp(-z*t))\n",
    "    \n",
    "    def invest(self, y, k):\n",
    "        \"\"\" Net investment in physical capital \"\"\"\n",
    "        s = self.par.s\n",
    "        delta = self.par.delta\n",
    "        return s*y - delta*k\n",
    "    \n",
    "    def update_capital(self, k, l, b, t):\n",
    "        \"\"\" Update capital stock \"\"\"\n",
    "        y = self.y(self.q(k, b, l))\n",
    "        i = self.invest(y, k)\n",
    "        k_new = k + i\n",
    "        l_new = l * np.exp(self.par.n)\n",
    "        b_new = b + self.par.g\n",
    "        return k_new, l_new, b_new\n",
    "    \n",
    "    def simulate(self):\n",
    "        \"\"\" Simulate model \"\"\"\n",
    "        par = self.par\n",
    "        \n",
    "        # initial values\n",
    "        k = par.K_lag_ini\n",
    "        l = 1\n",
    "        b = par.B_lag_ini\n",
    "        \n",
    "        # simulate the model\n",
    "        k_path, l_path, b_path = [k], [l], [b]\n",
    "        par.simT=50\n",
    "        for t in range(par.simT):\n",
    "            k, l, b = self.update_capital(k, l, b, t)\n",
    "            k_path.append(k)\n",
    "            l_path.append(l)\n",
    "            b_path.append(b)\n",
    "            \n",
    "        # store results\n",
    "        self.K = k_path\n",
    "        self.L = l_path\n",
    "        self.B = b_path"
   ]
  },
  {
   "cell_type": "code",
   "execution_count": 23,
   "metadata": {},
   "outputs": [
    {
     "ename": "NameError",
     "evalue": "name 'par' is not defined",
     "output_type": "error",
     "traceback": [
      "\u001b[0;31m---------------------------------------------------------------------------\u001b[0m",
      "\u001b[0;31mNameError\u001b[0m                                 Traceback (most recent call last)",
      "Input \u001b[0;32mIn [23]\u001b[0m, in \u001b[0;36m<cell line: 1>\u001b[0;34m()\u001b[0m\n\u001b[0;32m----> 1\u001b[0m \u001b[38;5;28mprint\u001b[39m(\u001b[43mpar\u001b[49m\u001b[38;5;241m.\u001b[39msimT)\n",
      "\u001b[0;31mNameError\u001b[0m: name 'par' is not defined"
     ]
    }
   ],
   "source": [
    "print(par.simT)"
   ]
  },
  {
   "cell_type": "code",
   "execution_count": 24,
   "metadata": {},
   "outputs": [
    {
     "ename": "NameError",
     "evalue": "name 'Parameters' is not defined",
     "output_type": "error",
     "traceback": [
      "\u001b[0;31m---------------------------------------------------------------------------\u001b[0m",
      "\u001b[0;31mNameError\u001b[0m                                 Traceback (most recent call last)",
      "Input \u001b[0;32mIn [24]\u001b[0m, in \u001b[0;36m<cell line: 1>\u001b[0;34m()\u001b[0m\n\u001b[0;32m----> 1\u001b[0m par \u001b[38;5;241m=\u001b[39m \u001b[43mParameters\u001b[49m()\n\u001b[1;32m      2\u001b[0m model \u001b[38;5;241m=\u001b[39m GreenSolow(par)\n\u001b[1;32m      4\u001b[0m \u001b[38;5;66;03m# simulate the model\u001b[39;00m\n",
      "\u001b[0;31mNameError\u001b[0m: name 'Parameters' is not defined"
     ]
    }
   ],
   "source": [
    "par = Parameters()\n",
    "model = GreenSolow(par)\n",
    "\n",
    "# simulate the model\n",
    "model.simulate()\n",
    "\n",
    "# plot the results\n",
    "import matplotlib.pyplot as plt\n",
    "plt.plot(model.K, label='Capital Stock')\n",
    "plt.plot(model.L, label='Labor')\n",
    "plt.plot(model.B, label='Efficiency')\n",
    "plt.plot(model.Y, label='Output')\n",
    "plt.plot(model.C, label='Consumption')\n",
    "plt.plot(model.I, label='Investment')\n",
    "plt.plot(model.E, label='Emissions')\n",
    "plt.legend()\n",
    "plt.show()"
   ]
  },
  {
   "cell_type": "markdown",
   "metadata": {},
   "source": [
    "I define the model class from the py file:"
   ]
  },
  {
   "cell_type": "code",
   "execution_count": 25,
   "metadata": {
    "scrolled": false
   },
   "outputs": [
    {
     "ename": "NameError",
     "evalue": "name 'GreenSolowModelClass' is not defined",
     "output_type": "error",
     "traceback": [
      "\u001b[0;31m---------------------------------------------------------------------------\u001b[0m",
      "\u001b[0;31mNameError\u001b[0m                                 Traceback (most recent call last)",
      "Input \u001b[0;32mIn [25]\u001b[0m, in \u001b[0;36m<cell line: 1>\u001b[0;34m()\u001b[0m\n\u001b[0;32m----> 1\u001b[0m model \u001b[38;5;241m=\u001b[39m \u001b[43mGreenSolowModelClass\u001b[49m()\n",
      "\u001b[0;31mNameError\u001b[0m: name 'GreenSolowModelClass' is not defined"
     ]
    }
   ],
   "source": [
    "model = GreenSolowModelClass()"
   ]
  },
  {
   "cell_type": "markdown",
   "metadata": {},
   "source": [
    "I then simulate the model using the simulation definition in the py file:"
   ]
  },
  {
   "cell_type": "code",
   "execution_count": 26,
   "metadata": {},
   "outputs": [
    {
     "ename": "NameError",
     "evalue": "name 'model' is not defined",
     "output_type": "error",
     "traceback": [
      "\u001b[0;31m---------------------------------------------------------------------------\u001b[0m",
      "\u001b[0;31mNameError\u001b[0m                                 Traceback (most recent call last)",
      "Input \u001b[0;32mIn [26]\u001b[0m, in \u001b[0;36m<cell line: 1>\u001b[0;34m()\u001b[0m\n\u001b[0;32m----> 1\u001b[0m \u001b[43mmodel\u001b[49m\u001b[38;5;241m.\u001b[39msimulate()\n",
      "\u001b[0;31mNameError\u001b[0m: name 'model' is not defined"
     ]
    }
   ],
   "source": [
    "model.simulate()"
   ]
  },
  {
   "cell_type": "markdown",
   "metadata": {},
   "source": [
    "I then plot the solution. To include the steady state I define that function as well:"
   ]
  },
  {
   "cell_type": "code",
   "execution_count": 27,
   "metadata": {
    "scrolled": false
   },
   "outputs": [
    {
     "ename": "SyntaxError",
     "evalue": "unexpected EOF while parsing (1107370522.py, line 1)",
     "output_type": "error",
     "traceback": [
      "\u001b[0;36m  Input \u001b[0;32mIn [27]\u001b[0;36m\u001b[0m\n\u001b[0;31m    K_ss=((par.s(1-par.theta)/(par.delta+par.g+par.n))^(1/(1-par.alpha))\u001b[0m\n\u001b[0m                                                                        ^\u001b[0m\n\u001b[0;31mSyntaxError\u001b[0m\u001b[0;31m:\u001b[0m unexpected EOF while parsing\n"
     ]
    }
   ],
   "source": [
    "K_ss=((par.s(1-par.theta)/(par.delta+par.g+par.n))^(1/(1-par.alpha))"
   ]
  },
  {
   "cell_type": "markdown",
   "metadata": {},
   "source": [
    "I then wish to create a graph like the one presented in lecture 4-OLG:"
   ]
  },
  {
   "cell_type": "code",
   "execution_count": 28,
   "metadata": {},
   "outputs": [
    {
     "ename": "NameError",
     "evalue": "name 'model' is not defined",
     "output_type": "error",
     "traceback": [
      "\u001b[0;31m---------------------------------------------------------------------------\u001b[0m",
      "\u001b[0;31mNameError\u001b[0m                                 Traceback (most recent call last)",
      "Input \u001b[0;32mIn [28]\u001b[0m, in \u001b[0;36m<cell line: 3>\u001b[0;34m()\u001b[0m\n\u001b[1;32m      1\u001b[0m fig \u001b[38;5;241m=\u001b[39m plt\u001b[38;5;241m.\u001b[39mfigure(figsize\u001b[38;5;241m=\u001b[39m(\u001b[38;5;241m6\u001b[39m,\u001b[38;5;241m6\u001b[39m\u001b[38;5;241m/\u001b[39m\u001b[38;5;241m1.5\u001b[39m))\n\u001b[1;32m      2\u001b[0m ax \u001b[38;5;241m=\u001b[39m fig\u001b[38;5;241m.\u001b[39madd_subplot(\u001b[38;5;241m1\u001b[39m,\u001b[38;5;241m1\u001b[39m,\u001b[38;5;241m1\u001b[39m)\n\u001b[0;32m----> 3\u001b[0m ax\u001b[38;5;241m.\u001b[39mplot(\u001b[43mmodel\u001b[49m\u001b[38;5;241m.\u001b[39msim\u001b[38;5;241m.\u001b[39mK_lag,label\u001b[38;5;241m=\u001b[39m\u001b[38;5;124mr\u001b[39m\u001b[38;5;124m'\u001b[39m\u001b[38;5;124m$K_\u001b[39m\u001b[38;5;124m{\u001b[39m\u001b[38;5;124mt-1}$\u001b[39m\u001b[38;5;124m'\u001b[39m)\n\u001b[1;32m      4\u001b[0m \u001b[38;5;66;03m#ax.axhline(K_ss,ls='--',color='black',label='analytical steady state')\u001b[39;00m\n\u001b[1;32m      5\u001b[0m ax\u001b[38;5;241m.\u001b[39mlegend(frameon\u001b[38;5;241m=\u001b[39m\u001b[38;5;28;01mTrue\u001b[39;00m)\n",
      "\u001b[0;31mNameError\u001b[0m: name 'model' is not defined"
     ]
    },
    {
     "data": {
      "image/png": "[encoded data removed]",
      "text/plain": [
       "<Figure size 600x400 with 1 Axes>"
      ]
     },
     "metadata": {},
     "output_type": "display_data"
    }
   ],
   "source": [
    "fig = plt.figure(figsize=(6,6/1.5))\n",
    "ax = fig.add_subplot(1,1,1)\n",
    "ax.plot(model.sim.K_lag,label=r'$K_{t-1}$')\n",
    "#ax.axhline(K_ss,ls='--',color='black',label='analytical steady state')\n",
    "ax.legend(frameon=True)\n",
    "fig.tight_layout()\n",
    "K_lag_old = model.sim.K_lag.copy()"
   ]
  },
  {
   "cell_type": "markdown",
   "metadata": {},
   "source": [
    "# Further analysis"
   ]
  },
  {
   "cell_type": "markdown",
   "metadata": {},
   "source": [
    "I wish to look at different values for income spent on abatement."
   ]
  },
  {
   "cell_type": "markdown",
   "metadata": {},
   "source": [
    "#### Therefore the steady state GDP per capita is higher for the low abatement costs "
   ]
  },
  {
   "cell_type": "code",
   "execution_count": 39,
   "metadata": {},
   "outputs": [],
   "source": [
    "# Define parameters\n",
    "s = 0.2\n",
    "g = 0.0186\n",
    "n = 0.0126\n",
    "alpha = 0.35\n",
    "delta = 0.07\n",
    "\n",
    "# Define function for steady-state value of k\n",
    "def k_star(theta):\n",
    "    f = lambda k: k**alpha\n",
    "    obj_k_star = lambda k_star: (s*(1-theta)*f(k_star) -(delta+g+n)*k_star)\n",
    "    result = optimize.root_scalar(obj_k_star,bracket=[0.1,100],method='brentq')\n",
    "    return result.root"
   ]
  },
  {
   "cell_type": "code",
   "execution_count": 40,
   "metadata": {
    "scrolled": true
   },
   "outputs": [
    {
     "data": {
      "image/png": "[encoded data removed]",
      "text/plain": [
       "<Figure size 640x480 with 1 Axes>"
      ]
     },
     "metadata": {},
     "output_type": "display_data"
    }
   ],
   "source": [
    "# Create array of values for theta\n",
    "theta_vals = np.arange(0.01, 0.81, 0.2)\n",
    "\n",
    "# Compute steady-state value of k for each value of theta\n",
    "k_star_vals = [k_star(theta) for theta in theta_vals]\n",
    "\n",
    "# Plot results\n",
    "import matplotlib.pyplot as plt\n",
    "plt.plot(theta_vals, k_star_vals)\n",
    "plt.xlabel('theta')\n",
    "plt.ylabel('Steady-state value of k')\n",
    "plt.title('Steady state value for differing abatement expenditure')\n",
    "plt.show()"
   ]
  },
  {
   "cell_type": "markdown",
   "metadata": {},
   "source": [
    "#### Therefore the steady state GDP per capita is higher for the low abatement costs. "
   ]
  },
  {
   "cell_type": "markdown",
   "metadata": {},
   "source": [
    "Furthermore, I wish to look at what happens if I insert a tax on emissions. Thereby the Y function is augmented to: \n",
    "\n",
    "$$\n",
    "Y_{t}=Q_{t}(1-\\theta)+\\tau E_t\n",
    "$$\n",
    "\n"
   ]
  },
  {
   "cell_type": "code",
   "execution_count": 42,
   "metadata": {},
   "outputs": [],
   "source": [
    "# Define parameters\n",
    "s = 0.2\n",
    "g = 0.0186\n",
    "n = 0.0126\n",
    "alpha = 0.35\n",
    "delta = 0.07\n",
    "theta = 0.15\n",
    "\n",
    "# Define function for steady-state value of k\n",
    "def k_star_tau(tau):\n",
    "    f = lambda k: k**alpha\n",
    "    obj_k_star = lambda k_star: (s*(1-theta-tau)*f(k_star) -(delta+g+n)*k_star)\n",
    "    result = optimize.root_scalar(obj_k_star,bracket=[0.1,100],method='brentq')\n",
    "    return result.root"
   ]
  },
  {
   "cell_type": "code",
   "execution_count": 43,
   "metadata": {},
   "outputs": [
    {
     "data": {
      "image/png": "[encoded data removed]",
      "text/plain": [
       "<Figure size 640x480 with 1 Axes>"
      ]
     },
     "metadata": {},
     "output_type": "display_data"
    }
   ],
   "source": [
    "# Create array of values for theta\n",
    "tau_vals = np.arange(0.01, 0.81, 0.2)\n",
    "\n",
    "# Compute steady-state value of k for each value of theta\n",
    "k_star_vals = [k_star_tau(tau) for tau in tau_vals]\n",
    "\n",
    "# Plot results\n",
    "import matplotlib.pyplot as plt\n",
    "plt.plot(theta_vals, k_star_vals)\n",
    "plt.xlabel('tau')\n",
    "plt.ylabel('Steady-state value of k')\n",
    "plt.title('Steady state value for differing abatement expenditure')\n",
    "plt.show()"
   ]
  },
  {
   "cell_type": "markdown",
   "metadata": {},
   "source": [
    "### Conclusion \n",
    "#### Therefore we see that, as expected, the increase in taxes will act in the same manner as the increase in abatement expenditue as expected."
   ]
  },
  {
   "cell_type": "markdown",
   "metadata": {},
   "source": [
    "### This modification needs the original simulation to work."
   ]
  },
  {
   "cell_type": "markdown",
   "metadata": {},
   "source": [
    "# Conclusion"
   ]
  },
  {
   "cell_type": "markdown",
   "metadata": {},
   "source": [
    "Add concise conclusion. "
   ]
  }
 ],
 "metadata": {
  "kernelspec": {
   "display_name": "Python 3 (ipykernel)",
   "language": "python",
   "name": "python3"
  },
  "language_info": {
   "codemirror_mode": {
    "name": "ipython",
    "version": 3
   },
   "file_extension": ".py",
   "mimetype": "text/x-python",
   "name": "python",
   "nbconvert_exporter": "python",
   "pygments_lexer": "ipython3",
   "version": "3.9.13"
  },
  "toc-autonumbering": true,
  "vscode": {
   "interpreter": {
    "hash": "47ef90cdf3004d3f859f1fb202523c65c07ba7c22eefd261b181f4744e2d0403"
   }
  }
 },
 "nbformat": 4,
 "nbformat_minor": 4
}
